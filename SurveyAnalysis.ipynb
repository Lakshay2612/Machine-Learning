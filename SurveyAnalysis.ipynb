{
 "cells": [
  {
   "cell_type": "markdown",
   "source": [
    "<h3>Firstly, We will import the required libraries</h3>"
   ],
   "metadata": {}
  },
  {
   "cell_type": "code",
   "execution_count": 69,
   "source": [
    "from sklearn import linear_model\r\n",
    "import pandas as pd\r\n",
    "import matplotlib.pyplot as plt\r\n",
    "import seaborn as sns"
   ],
   "outputs": [],
   "metadata": {}
  },
  {
   "cell_type": "markdown",
   "source": [
    "<h3>Now we will read the Survey.csv file into our file object</h3>"
   ],
   "metadata": {}
  },
  {
   "cell_type": "code",
   "execution_count": 70,
   "source": [
    "file=r\"C:\\Users\\LENOVO\\Desktop\\Survey.csv\""
   ],
   "outputs": [],
   "metadata": {}
  },
  {
   "cell_type": "markdown",
   "source": [
    "Making a dataframe from the file object"
   ],
   "metadata": {}
  },
  {
   "cell_type": "code",
   "execution_count": 71,
   "source": [
    "df=pd.read_csv(file)"
   ],
   "outputs": [],
   "metadata": {}
  },
  {
   "cell_type": "markdown",
   "source": [
    "Printing the first five rows of the dataframe using the head function"
   ],
   "metadata": {}
  },
  {
   "cell_type": "code",
   "execution_count": 72,
   "source": [
    "df.head()"
   ],
   "outputs": [
    {
     "output_type": "execute_result",
     "data": {
      "text/plain": [
       "          Timestamp                Name  Age  Gender   State  City  \\\n",
       "0  01-08-2021 13:01  Mannat Kaur Boonga   20  Female   Delhi     1   \n",
       "1  01-08-2021 13:17       Gaurav Sharma   27    Male   Delhi     1   \n",
       "2  01-08-2021 13:17      Chinmay Suntha   19    Male  Delhi      1   \n",
       "3  01-08-2021 13:18             Devraj    25    Male   Delhi     1   \n",
       "4  01-08-2021 13:22          Ravi Rawat   34    Male   Delhi     1   \n",
       "\n",
       "  Category of products you would prefer to buy.  \n",
       "0                                         Books  \n",
       "1                              OTT subsciptions  \n",
       "2                                      Vehicles  \n",
       "3                            Sports accessories  \n",
       "4                         Electronic appliances  "
      ],
      "text/html": [
       "<div>\n",
       "<style scoped>\n",
       "    .dataframe tbody tr th:only-of-type {\n",
       "        vertical-align: middle;\n",
       "    }\n",
       "\n",
       "    .dataframe tbody tr th {\n",
       "        vertical-align: top;\n",
       "    }\n",
       "\n",
       "    .dataframe thead th {\n",
       "        text-align: right;\n",
       "    }\n",
       "</style>\n",
       "<table border=\"1\" class=\"dataframe\">\n",
       "  <thead>\n",
       "    <tr style=\"text-align: right;\">\n",
       "      <th></th>\n",
       "      <th>Timestamp</th>\n",
       "      <th>Name</th>\n",
       "      <th>Age</th>\n",
       "      <th>Gender</th>\n",
       "      <th>State</th>\n",
       "      <th>City</th>\n",
       "      <th>Category of products you would prefer to buy.</th>\n",
       "    </tr>\n",
       "  </thead>\n",
       "  <tbody>\n",
       "    <tr>\n",
       "      <th>0</th>\n",
       "      <td>01-08-2021 13:01</td>\n",
       "      <td>Mannat Kaur Boonga</td>\n",
       "      <td>20</td>\n",
       "      <td>Female</td>\n",
       "      <td>Delhi</td>\n",
       "      <td>1</td>\n",
       "      <td>Books</td>\n",
       "    </tr>\n",
       "    <tr>\n",
       "      <th>1</th>\n",
       "      <td>01-08-2021 13:17</td>\n",
       "      <td>Gaurav Sharma</td>\n",
       "      <td>27</td>\n",
       "      <td>Male</td>\n",
       "      <td>Delhi</td>\n",
       "      <td>1</td>\n",
       "      <td>OTT subsciptions</td>\n",
       "    </tr>\n",
       "    <tr>\n",
       "      <th>2</th>\n",
       "      <td>01-08-2021 13:17</td>\n",
       "      <td>Chinmay Suntha</td>\n",
       "      <td>19</td>\n",
       "      <td>Male</td>\n",
       "      <td>Delhi</td>\n",
       "      <td>1</td>\n",
       "      <td>Vehicles</td>\n",
       "    </tr>\n",
       "    <tr>\n",
       "      <th>3</th>\n",
       "      <td>01-08-2021 13:18</td>\n",
       "      <td>Devraj</td>\n",
       "      <td>25</td>\n",
       "      <td>Male</td>\n",
       "      <td>Delhi</td>\n",
       "      <td>1</td>\n",
       "      <td>Sports accessories</td>\n",
       "    </tr>\n",
       "    <tr>\n",
       "      <th>4</th>\n",
       "      <td>01-08-2021 13:22</td>\n",
       "      <td>Ravi Rawat</td>\n",
       "      <td>34</td>\n",
       "      <td>Male</td>\n",
       "      <td>Delhi</td>\n",
       "      <td>1</td>\n",
       "      <td>Electronic appliances</td>\n",
       "    </tr>\n",
       "  </tbody>\n",
       "</table>\n",
       "</div>"
      ]
     },
     "metadata": {},
     "execution_count": 72
    }
   ],
   "metadata": {}
  },
  {
   "cell_type": "code",
   "execution_count": 73,
   "source": [
    "df.shape"
   ],
   "outputs": [
    {
     "output_type": "execute_result",
     "data": {
      "text/plain": [
       "(83, 7)"
      ]
     },
     "metadata": {},
     "execution_count": 73
    }
   ],
   "metadata": {}
  },
  {
   "cell_type": "markdown",
   "source": [
    "Summary of the dataframe"
   ],
   "metadata": {}
  },
  {
   "cell_type": "code",
   "execution_count": 74,
   "source": [
    "df.describe"
   ],
   "outputs": [
    {
     "output_type": "execute_result",
     "data": {
      "text/plain": [
       "<bound method NDFrame.describe of            Timestamp                 Name  Age  Gender    State  City  \\\n",
       "0   01-08-2021 13:01   Mannat Kaur Boonga   20  Female    Delhi     1   \n",
       "1   01-08-2021 13:17        Gaurav Sharma   27    Male    Delhi     1   \n",
       "2   01-08-2021 13:17       Chinmay Suntha   19    Male   Delhi      1   \n",
       "3   01-08-2021 13:18              Devraj    25    Male    Delhi     1   \n",
       "4   01-08-2021 13:22           Ravi Rawat   34    Male    Delhi     1   \n",
       "..               ...                  ...  ...     ...      ...   ...   \n",
       "78  03-08-2021 19:42      Mritunjay Kumar   30    Male    Bihar     3   \n",
       "79  03-08-2021 21:41     Dharmendra Rawat   29    Male    Delhi     1   \n",
       "80  03-08-2021 21:42        Aashish Rawat   23    Male    Delhi     1   \n",
       "81  03-08-2021 21:58              Ranjana   26  Female    Delhi     1   \n",
       "82  03-08-2021 22:07  Akanksha Chaturvedi   28  Female  Haryana     1   \n",
       "\n",
       "   Category of products you would prefer to buy.  \n",
       "0                                          Books  \n",
       "1                               OTT subsciptions  \n",
       "2                                       Vehicles  \n",
       "3                             Sports accessories  \n",
       "4                          Electronic appliances  \n",
       "..                                           ...  \n",
       "78                         Electronic appliances  \n",
       "79                              OTT subsciptions  \n",
       "80                         Electronic appliances  \n",
       "81                              Fashion products  \n",
       "82                              Fashion products  \n",
       "\n",
       "[83 rows x 7 columns]>"
      ]
     },
     "metadata": {},
     "execution_count": 74
    }
   ],
   "metadata": {}
  },
  {
   "cell_type": "code",
   "execution_count": 75,
   "source": [
    "plt.rcParams[\"figure.figsize\"] = (20,3)\r\n"
   ],
   "outputs": [],
   "metadata": {}
  },
  {
   "cell_type": "markdown",
   "source": [
    "DIstribution of people from different states"
   ],
   "metadata": {}
  },
  {
   "cell_type": "code",
   "execution_count": 76,
   "source": [
    "sns.countplot(data=df,x=\"State\")\r\n",
    "plt.title(\"Number of people from different states\")"
   ],
   "outputs": [
    {
     "output_type": "execute_result",
     "data": {
      "text/plain": [
       "Text(0.5, 1.0, 'Number of people from different states')"
      ]
     },
     "metadata": {},
     "execution_count": 76
    },
    {
     "output_type": "display_data",
     "data": {
      "text/plain": [
       "<Figure size 1440x216 with 1 Axes>"
      ],
      "image/png": "[encoded data removed]"
     },
     "metadata": {
      "needs_background": "light"
     }
    }
   ],
   "metadata": {}
  },
  {
   "cell_type": "markdown",
   "source": [
    "Distribution of people's choice for the given category of products"
   ],
   "metadata": {}
  },
  {
   "cell_type": "code",
   "execution_count": 77,
   "source": [
    "sns.countplot(data=df,x=\"Category of products you would prefer to buy.\")\r\n",
    "plt.xlabel(\"Category of products people prefer to buy\")\r\n",
    "plt.title(\"Choices of people\")"
   ],
   "outputs": [
    {
     "output_type": "execute_result",
     "data": {
      "text/plain": [
       "Text(0.5, 1.0, 'Choices of people')"
      ]
     },
     "metadata": {},
     "execution_count": 77
    },
    {
     "output_type": "display_data",
     "data": {
      "text/plain": [
       "<Figure size 1440x216 with 1 Axes>"
      ],
      "image/png": "[encoded data removed]"
     },
     "metadata": {
      "needs_background": "light"
     }
    }
   ],
   "metadata": {}
  },
  {
   "cell_type": "markdown",
   "source": [
    "Distribution of people living in different cities tierwise"
   ],
   "metadata": {}
  },
  {
   "cell_type": "code",
   "execution_count": 78,
   "source": [
    "sns.countplot(data=df,x=\"City\")\r\n",
    "plt.title(\"People from different cities distributed tierwise\")"
   ],
   "outputs": [
    {
     "output_type": "execute_result",
     "data": {
      "text/plain": [
       "Text(0.5, 1.0, 'People from different cities distributed tierwise')"
      ]
     },
     "metadata": {},
     "execution_count": 78
    },
    {
     "output_type": "display_data",
     "data": {
      "text/plain": [
       "<Figure size 1440x216 with 1 Axes>"
      ],
      "image/png": "[encoded data removed]"
     },
     "metadata": {
      "needs_background": "light"
     }
    }
   ],
   "metadata": {}
  },
  {
   "cell_type": "markdown",
   "source": [
    "Converting string values into numbers using getdummies function."
   ],
   "metadata": {}
  },
  {
   "cell_type": "code",
   "execution_count": 79,
   "source": [
    "df1=pd.get_dummies(df[\"Gender\"])\r\n",
    "df2=pd.get_dummies(df[\"State\"])\r\n",
    "df3=pd.get_dummies(df[\"City\"])\r\n",
    "df=pd.concat([df,df1,df2,df3],axis=1)\r\n",
    "df.head()"
   ],
   "outputs": [
    {
     "output_type": "execute_result",
     "data": {
      "text/plain": [
       "          Timestamp                Name  Age  Gender   State  City  \\\n",
       "0  01-08-2021 13:01  Mannat Kaur Boonga   20  Female   Delhi     1   \n",
       "1  01-08-2021 13:17       Gaurav Sharma   27    Male   Delhi     1   \n",
       "2  01-08-2021 13:17      Chinmay Suntha   19    Male  Delhi      1   \n",
       "3  01-08-2021 13:18             Devraj    25    Male   Delhi     1   \n",
       "4  01-08-2021 13:22          Ravi Rawat   34    Male   Delhi     1   \n",
       "\n",
       "  Category of products you would prefer to buy.  Female  Male  Assam  ...  \\\n",
       "0                                         Books       1     0      0  ...   \n",
       "1                              OTT subsciptions       0     1      0  ...   \n",
       "2                                      Vehicles       0     1      0  ...   \n",
       "3                            Sports accessories       0     1      0  ...   \n",
       "4                         Electronic appliances       0     1      0  ...   \n",
       "\n",
       "   Maharashtra  Maharashtra   New Delhi  Odisha  Punjab  Rajasthan  UP  1  2  \\\n",
       "0            0             0          0       0       0          0   0  1  0   \n",
       "1            0             0          0       0       0          0   0  1  0   \n",
       "2            0             0          0       0       0          0   0  1  0   \n",
       "3            0             0          0       0       0          0   0  1  0   \n",
       "4            0             0          0       0       0          0   0  1  0   \n",
       "\n",
       "   3  \n",
       "0  0  \n",
       "1  0  \n",
       "2  0  \n",
       "3  0  \n",
       "4  0  \n",
       "\n",
       "[5 rows x 30 columns]"
      ],
      "text/html": [
       "<div>\n",
       "<style scoped>\n",
       "    .dataframe tbody tr th:only-of-type {\n",
       "        vertical-align: middle;\n",
       "    }\n",
       "\n",
       "    .dataframe tbody tr th {\n",
       "        vertical-align: top;\n",
       "    }\n",
       "\n",
       "    .dataframe thead th {\n",
       "        text-align: right;\n",
       "    }\n",
       "</style>\n",
       "<table border=\"1\" class=\"dataframe\">\n",
       "  <thead>\n",
       "    <tr style=\"text-align: right;\">\n",
       "      <th></th>\n",
       "      <th>Timestamp</th>\n",
       "      <th>Name</th>\n",
       "      <th>Age</th>\n",
       "      <th>Gender</th>\n",
       "      <th>State</th>\n",
       "      <th>City</th>\n",
       "      <th>Category of products you would prefer to buy.</th>\n",
       "      <th>Female</th>\n",
       "      <th>Male</th>\n",
       "      <th>Assam</th>\n",
       "      <th>...</th>\n",
       "      <th>Maharashtra</th>\n",
       "      <th>Maharashtra</th>\n",
       "      <th>New Delhi</th>\n",
       "      <th>Odisha</th>\n",
       "      <th>Punjab</th>\n",
       "      <th>Rajasthan</th>\n",
       "      <th>UP</th>\n",
       "      <th>1</th>\n",
       "      <th>2</th>\n",
       "      <th>3</th>\n",
       "    </tr>\n",
       "  </thead>\n",
       "  <tbody>\n",
       "    <tr>\n",
       "      <th>0</th>\n",
       "      <td>01-08-2021 13:01</td>\n",
       "      <td>Mannat Kaur Boonga</td>\n",
       "      <td>20</td>\n",
       "      <td>Female</td>\n",
       "      <td>Delhi</td>\n",
       "      <td>1</td>\n",
       "      <td>Books</td>\n",
       "      <td>1</td>\n",
       "      <td>0</td>\n",
       "      <td>0</td>\n",
       "      <td>...</td>\n",
       "      <td>0</td>\n",
       "      <td>0</td>\n",
       "      <td>0</td>\n",
       "      <td>0</td>\n",
       "      <td>0</td>\n",
       "      <td>0</td>\n",
       "      <td>0</td>\n",
       "      <td>1</td>\n",
       "      <td>0</td>\n",
       "      <td>0</td>\n",
       "    </tr>\n",
       "    <tr>\n",
       "      <th>1</th>\n",
       "      <td>01-08-2021 13:17</td>\n",
       "      <td>Gaurav Sharma</td>\n",
       "      <td>27</td>\n",
       "      <td>Male</td>\n",
       "      <td>Delhi</td>\n",
       "      <td>1</td>\n",
       "      <td>OTT subsciptions</td>\n",
       "      <td>0</td>\n",
       "      <td>1</td>\n",
       "      <td>0</td>\n",
       "      <td>...</td>\n",
       "      <td>0</td>\n",
       "      <td>0</td>\n",
       "      <td>0</td>\n",
       "      <td>0</td>\n",
       "      <td>0</td>\n",
       "      <td>0</td>\n",
       "      <td>0</td>\n",
       "      <td>1</td>\n",
       "      <td>0</td>\n",
       "      <td>0</td>\n",
       "    </tr>\n",
       "    <tr>\n",
       "      <th>2</th>\n",
       "      <td>01-08-2021 13:17</td>\n",
       "      <td>Chinmay Suntha</td>\n",
       "      <td>19</td>\n",
       "      <td>Male</td>\n",
       "      <td>Delhi</td>\n",
       "      <td>1</td>\n",
       "      <td>Vehicles</td>\n",
       "      <td>0</td>\n",
       "      <td>1</td>\n",
       "      <td>0</td>\n",
       "      <td>...</td>\n",
       "      <td>0</td>\n",
       "      <td>0</td>\n",
       "      <td>0</td>\n",
       "      <td>0</td>\n",
       "      <td>0</td>\n",
       "      <td>0</td>\n",
       "      <td>0</td>\n",
       "      <td>1</td>\n",
       "      <td>0</td>\n",
       "      <td>0</td>\n",
       "    </tr>\n",
       "    <tr>\n",
       "      <th>3</th>\n",
       "      <td>01-08-2021 13:18</td>\n",
       "      <td>Devraj</td>\n",
       "      <td>25</td>\n",
       "      <td>Male</td>\n",
       "      <td>Delhi</td>\n",
       "      <td>1</td>\n",
       "      <td>Sports accessories</td>\n",
       "      <td>0</td>\n",
       "      <td>1</td>\n",
       "      <td>0</td>\n",
       "      <td>...</td>\n",
       "      <td>0</td>\n",
       "      <td>0</td>\n",
       "      <td>0</td>\n",
       "      <td>0</td>\n",
       "      <td>0</td>\n",
       "      <td>0</td>\n",
       "      <td>0</td>\n",
       "      <td>1</td>\n",
       "      <td>0</td>\n",
       "      <td>0</td>\n",
       "    </tr>\n",
       "    <tr>\n",
       "      <th>4</th>\n",
       "      <td>01-08-2021 13:22</td>\n",
       "      <td>Ravi Rawat</td>\n",
       "      <td>34</td>\n",
       "      <td>Male</td>\n",
       "      <td>Delhi</td>\n",
       "      <td>1</td>\n",
       "      <td>Electronic appliances</td>\n",
       "      <td>0</td>\n",
       "      <td>1</td>\n",
       "      <td>0</td>\n",
       "      <td>...</td>\n",
       "      <td>0</td>\n",
       "      <td>0</td>\n",
       "      <td>0</td>\n",
       "      <td>0</td>\n",
       "      <td>0</td>\n",
       "      <td>0</td>\n",
       "      <td>0</td>\n",
       "      <td>1</td>\n",
       "      <td>0</td>\n",
       "      <td>0</td>\n",
       "    </tr>\n",
       "  </tbody>\n",
       "</table>\n",
       "<p>5 rows × 30 columns</p>\n",
       "</div>"
      ]
     },
     "metadata": {},
     "execution_count": 79
    }
   ],
   "metadata": {}
  },
  {
   "cell_type": "markdown",
   "source": [
    "<h3>Now we will use Age,Gender,State and City of the person to predict the category of product he or she would prefer to buy.\r\n",
    " So, we will make two dataframes containing the variables that will be used as predictors and the target variable respectively.</h3>\r\n"
   ],
   "metadata": {}
  },
  {
   "cell_type": "code",
   "execution_count": 86,
   "source": [
    "x=df[[\"Age\",\"Male\",\"Female\",\"City\"]] #Predictor variables\r\n",
    "y=df[[\"Category of products you would prefer to buy.\"]] #Target variable whose value is to be predicted"
   ],
   "outputs": [],
   "metadata": {}
  },
  {
   "cell_type": "markdown",
   "source": [
    "<h3>Now we will use the train_test_split to split our dataset into two parts.</h3"
   ],
   "metadata": {}
  },
  {
   "cell_type": "code",
   "execution_count": 87,
   "source": [
    "from sklearn.model_selection import train_test_split\r\n",
    "X_train,X_test,Y_train,Y_test=train_test_split(x,y,test_size=0.2,random_state=4)"
   ],
   "outputs": [],
   "metadata": {}
  },
  {
   "cell_type": "code",
   "execution_count": 88,
   "source": [
    "from sklearn.tree import DecisionTreeClassifier\r\n",
    "from sklearn.neighbors import KNeighborsClassifier\r\n",
    "from sklearn.ensemble import RandomForestClassifier"
   ],
   "outputs": [],
   "metadata": {}
  },
  {
   "cell_type": "markdown",
   "source": [
    "<h2>K Neighbours Classifier</h2>"
   ],
   "metadata": {}
  },
  {
   "cell_type": "code",
   "execution_count": 89,
   "source": [
    "neigh=KNeighborsClassifier(n_neighbors=6).fit(X_train,Y_train)\r\n",
    "neigh"
   ],
   "outputs": [
    {
     "output_type": "stream",
     "name": "stderr",
     "text": [
      "C:\\Users\\LENOVO\\AppData\\Local\\Programs\\Python\\Python38\\lib\\site-packages\\sklearn\\neighbors\\_classification.py:179: DataConversionWarning: A column-vector y was passed when a 1d array was expected. Please change the shape of y to (n_samples,), for example using ravel().\n",
      "  return self._fit(X, y)\n"
     ]
    },
    {
     "output_type": "execute_result",
     "data": {
      "text/plain": [
       "KNeighborsClassifier(n_neighbors=6)"
      ]
     },
     "metadata": {},
     "execution_count": 89
    }
   ],
   "metadata": {}
  },
  {
   "cell_type": "code",
   "execution_count": 90,
   "source": [
    "yhat=neigh.predict(X_test)\r\n",
    "print(yhat)"
   ],
   "outputs": [
    {
     "output_type": "stream",
     "name": "stdout",
     "text": [
      "['Electronic appliances' 'Electronic appliances' 'Books'\n",
      " 'Electronic appliances' 'Electronic appliances' 'Books' 'Books'\n",
      " 'Vehicles' 'Electronic appliances' 'Electronic appliances' 'Vehicles'\n",
      " 'Vehicles' 'Electronic appliances' 'Books' 'Vehicles' 'Vehicles'\n",
      " 'Home or kitchen utilities']\n"
     ]
    }
   ],
   "metadata": {}
  },
  {
   "cell_type": "markdown",
   "source": [
    "<h2>Logistic Regression</h2>"
   ],
   "metadata": {}
  },
  {
   "cell_type": "code",
   "execution_count": 92,
   "source": [
    "from sklearn.linear_model import LogisticRegression\r\n",
    "LR=LogisticRegression(C=0.01,solver=\"liblinear\").fit(X_train,Y_train)\r\n",
    "LR"
   ],
   "outputs": [
    {
     "output_type": "stream",
     "name": "stderr",
     "text": [
      "C:\\Users\\LENOVO\\AppData\\Local\\Programs\\Python\\Python38\\lib\\site-packages\\sklearn\\utils\\validation.py:63: DataConversionWarning: A column-vector y was passed when a 1d array was expected. Please change the shape of y to (n_samples, ), for example using ravel().\n",
      "  return f(*args, **kwargs)\n"
     ]
    },
    {
     "output_type": "execute_result",
     "data": {
      "text/plain": [
       "LogisticRegression(C=0.01, solver='liblinear')"
      ]
     },
     "metadata": {},
     "execution_count": 92
    }
   ],
   "metadata": {}
  },
  {
   "cell_type": "code",
   "execution_count": 93,
   "source": [
    "yhatLR=LR.predict(X_test)\r\n",
    "yhatLR"
   ],
   "outputs": [
    {
     "output_type": "execute_result",
     "data": {
      "text/plain": [
       "array(['Electronic appliances', 'Electronic appliances',\n",
       "       'Electronic appliances', 'Electronic appliances',\n",
       "       'Electronic appliances', 'Electronic appliances',\n",
       "       'Electronic appliances', 'Electronic appliances',\n",
       "       'Electronic appliances', 'Electronic appliances',\n",
       "       'Electronic appliances', 'Electronic appliances',\n",
       "       'Electronic appliances', 'Electronic appliances',\n",
       "       'Electronic appliances', 'Electronic appliances',\n",
       "       'Electronic appliances'], dtype=object)"
      ]
     },
     "metadata": {},
     "execution_count": 93
    }
   ],
   "metadata": {}
  },
  {
   "cell_type": "markdown",
   "source": [
    "<h2>Decision Tree Classifier</h2>"
   ],
   "metadata": {}
  },
  {
   "cell_type": "code",
   "execution_count": 97,
   "source": [
    "tree=DecisionTreeClassifier()\r\n",
    "tree.fit(X_train,Y_train)"
   ],
   "outputs": [
    {
     "output_type": "execute_result",
     "data": {
      "text/plain": [
       "DecisionTreeClassifier()"
      ]
     },
     "metadata": {},
     "execution_count": 97
    }
   ],
   "metadata": {}
  },
  {
   "cell_type": "code",
   "execution_count": 98,
   "source": [
    "pred_tree=tree.predict(X_test)\r\n",
    "pred_tree"
   ],
   "outputs": [
    {
     "output_type": "execute_result",
     "data": {
      "text/plain": [
       "array(['OTT subsciptions', 'Electronic appliances', 'Fashion products',\n",
       "       'Electronic appliances', 'Electronic appliances',\n",
       "       'Fashion products', 'Fashion products', 'Fashion products',\n",
       "       'Electronic appliances', 'Electronic appliances',\n",
       "       'Fashion products', 'Fashion products', 'OTT subsciptions',\n",
       "       'Beauty products', 'Fashion products', 'Fashion products',\n",
       "       'Home or kitchen utilities'], dtype=object)"
      ]
     },
     "metadata": {},
     "execution_count": 98
    }
   ],
   "metadata": {}
  },
  {
   "cell_type": "code",
   "execution_count": null,
   "source": [],
   "outputs": [],
   "metadata": {}
  }
 ],
 "metadata": {
  "orig_nbformat": 4,
  "language_info": {
   "name": "python",
   "version": "3.8.6",
   "mimetype": "text/x-python",
   "codemirror_mode": {
    "name": "ipython",
    "version": 3
   },
   "pygments_lexer": "ipython3",
   "nbconvert_exporter": "python",
   "file_extension": ".py"
  },
  "kernelspec": {
   "name": "python3",
   "display_name": "Python 3.8.6 64-bit"
  },
  "interpreter": {
   "hash": "f5bd28ee32a81f75b587c4a5c9ba5abfdf032b3105de37173de2ab9e920c5085"
  }
 },
 "nbformat": 4,
 "nbformat_minor": 2
}